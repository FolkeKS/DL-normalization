{
 "cells": [
  {
   "cell_type": "code",
   "execution_count": 4,
   "id": "f26bd170",
   "metadata": {},
   "outputs": [
    {
     "name": "stderr",
     "output_type": "stream",
     "text": [
      "/Users/coulaud/opt/anaconda3/envs/DL-normalization/lib/python3.9/site-packages/tqdm/auto.py:22: TqdmWarning: IProgress not found. Please update jupyter and ipywidgets. See https://ipywidgets.readthedocs.io/en/stable/user_install.html\n",
      "  from .autonotebook import tqdm as notebook_tqdm\n"
     ]
    },
    {
     "data": {
      "text/plain": [
       "<module 'src.visualization.display' from '/Users/coulaud/Documents/DL-normalization/src/visualization/display.py'>"
      ]
     },
     "execution_count": 4,
     "metadata": {},
     "output_type": "execute_result"
    }
   ],
   "source": [
    "import numpy as np\n",
    "import os\n",
    "import os.path\n",
    "import src.visualization.display as dsp\n",
    "import netCDF4 as nc\n",
    "import matplotlib.pyplot as plt\n",
    "import torch\n",
    "from pytorch_lightning import Trainer,seed_everything,LightningModule\n",
    "from pytorch_lightning.callbacks import ModelCheckpoint, EarlyStopping\n",
    "import src.unet as unet\n",
    "import scipy.ndimage.morphology as scm\n",
    "import importlib\n",
    "import matplotlib.ticker as mtick\n",
    "from scipy import interpolate\n",
    "importlib.reload(dsp)"
   ]
  },
  {
   "cell_type": "code",
   "execution_count": 2,
   "id": "bfa77be7",
   "metadata": {},
   "outputs": [
    {
     "data": {
      "text/plain": [
       "'/Users/skrunes/Documents/DL-normalization'"
      ]
     },
     "execution_count": 2,
     "metadata": {},
     "output_type": "execute_result"
    }
   ],
   "source": [
    "os.getcwd()\n",
    "os.chdir(\"..\")\n",
    "os.getcwd()"
   ]
  },
  {
   "cell_type": "code",
   "execution_count": 3,
   "id": "42277236",
   "metadata": {},
   "outputs": [
    {
     "name": "stdout",
     "output_type": "stream",
     "text": [
      "\u001b[34mdemo_isotropic_noise3_samples_normalize\u001b[m\u001b[m/\r\n",
      "\u001b[34mdemo_isotropic_noise3_samples_standardize\u001b[m\u001b[m/\r\n",
      "\u001b[34misotropic_noise100_samples_standardize\u001b[m\u001b[m/\r\n",
      "\u001b[34misotropic_noise99_samples_standardize\u001b[m\u001b[m/\r\n",
      "\u001b[34mnemo_perten90_samples_standardize copie\u001b[m\u001b[m/\r\n",
      "nemo_perten90_samples_standardize copie.zip\r\n"
     ]
    }
   ],
   "source": [
    "ls ../data/processed"
   ]
  },
  {
   "cell_type": "code",
   "execution_count": null,
   "id": "2d3252b0",
   "metadata": {},
   "outputs": [],
   "source": [
    "nemo_lats = np.loadtxt(\"data/lats.txt\")[1:-1,1:-1]\n",
    "nemo_lons = np.loadtxt(\"data/lons.txt\")[1:-1,1:-1]\n",
    "\n",
    "lon = np.arange(-180, 180)\n",
    "lat = np.arange(-90, 90)\n",
    "lon2d, lat2d = np.meshgrid(lon, lat)\n",
    "\n",
    "X = np.load(\"data/processed/nemo_perten90_samples_standardize copie//valid/X/NORSSH_PERTEN15.npz\")['arr_0']\n",
    "\n",
    "points_nemo = []\n",
    "points_mercator = []\n",
    "\n",
    "pad = 10\n",
    "\n",
    "pad_lons = np.empty((290,360 + 2 * pad))\n",
    "pad_lons[:,pad:-pad] = np.copy(nemo_lons)\n",
    "pad_lons[:,:pad] = np.copy(pad_lons[:,-2*pad:-pad])\n",
    "pad_lons[:,-pad:] = np.copy(pad_lons[:,pad:2*pad])\n",
    "\n",
    "pad_lats = np.empty((290,360 + 2 * pad))\n",
    "pad_lats[:,pad:-pad] = np.copy(nemo_lats)\n",
    "pad_lats[:,:pad] = np.copy(pad_lats[:,-2*pad:-pad])\n",
    "pad_lats[:,-pad:] = np.copy(pad_lats[:,pad:2*pad])\n",
    "\n",
    "for i in range(len(pad_lons)):\n",
    "    for j in range(len(pad_lons[0])):\n",
    "        points_nemo.append((pad_lons[i,j],pad_lats[i,j]))\n",
    "\n",
    "        \n",
    "for i in range(-90,90):\n",
    "    for j in np.concatenate((np.arange(-10,180),np.arange(-180,10))):\n",
    "        points_mercator.append((j,i))\n",
    "\n",
    "padded=np.copy(X[0,30:-30,20:-20])\n",
    "interp1 = np.nan_to_num(interpolate.griddata(points_nemo,padded.flatten(), \n",
    "                                            points_mercator)).reshape((180,380))\n",
    "\n",
    "\n",
    "dsp.plot_error_globe(interp1[:,10:-10], lon2d, lat2d,vmin=-4,vmax=4,cmap=\"Reds\",\n",
    "                     cmap_title=\"(pred - true)^2\",title=\"validation mse (1 sample)\")"
   ]
  },
  {
   "cell_type": "code",
   "execution_count": null,
   "id": "0ab49d1d",
   "metadata": {},
   "outputs": [],
   "source": [
    "\n"
   ]
  }
 ],
 "metadata": {
  "kernelspec": {
   "display_name": "Python 3 (ipykernel)",
   "language": "python",
   "name": "python3"
  },
  "language_info": {
   "codemirror_mode": {
    "name": "ipython",
    "version": 3
   },
   "file_extension": ".py",
   "mimetype": "text/x-python",
   "name": "python",
   "nbconvert_exporter": "python",
   "pygments_lexer": "ipython3",
   "version": "3.9.12"
  }
 },
 "nbformat": 4,
 "nbformat_minor": 5
}
