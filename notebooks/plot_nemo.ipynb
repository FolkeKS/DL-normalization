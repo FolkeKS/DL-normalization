{
 "cells": [
  {
   "cell_type": "code",
   "execution_count": 1,
   "id": "f26bd170",
   "metadata": {},
   "outputs": [
    {
     "name": "stderr",
     "output_type": "stream",
     "text": [
      "/Users/coulaud/opt/anaconda3/envs/DL-normalization/lib/python3.9/site-packages/tqdm/auto.py:22: TqdmWarning: IProgress not found. Please update jupyter and ipywidgets. See https://ipywidgets.readthedocs.io/en/stable/user_install.html\n",
      "  from .autonotebook import tqdm as notebook_tqdm\n"
     ]
    },
    {
     "data": {
      "text/plain": [
       "<module 'src.visualization.display' from '/Users/coulaud/Documents/DL-normalization/src/visualization/display.py'>"
      ]
     },
     "execution_count": 1,
     "metadata": {},
     "output_type": "execute_result"
    }
   ],
   "source": [
    "import numpy as np\n",
    "import os\n",
    "import os.path\n",
    "import src.visualization.display as dsp\n",
    "import netCDF4 as nc\n",
    "import matplotlib.pyplot as plt\n",
    "import torch\n",
    "from pytorch_lightning import Trainer,seed_everything,LightningModule\n",
    "from pytorch_lightning.callbacks import ModelCheckpoint, EarlyStopping\n",
    "import src.unet as unet\n",
    "import scipy.ndimage.morphology as scm\n",
    "import importlib\n",
    "import matplotlib.ticker as mtick\n",
    "from scipy import interpolate\n",
    "importlib.reload(dsp)"
   ]
  },
  {
   "cell_type": "code",
   "execution_count": 2,
   "id": "bfa77be7",
   "metadata": {},
   "outputs": [
    {
     "data": {
      "text/plain": [
       "'/Users/coulaud/Documents/DL-normalization'"
      ]
     },
     "execution_count": 2,
     "metadata": {},
     "output_type": "execute_result"
    }
   ],
   "source": [
    "os.getcwd()\n",
    "os.chdir(\"..\")\n",
    "os.getcwd()"
   ]
  },
  {
   "cell_type": "code",
   "execution_count": 6,
   "id": "c3b6ad7a",
   "metadata": {},
   "outputs": [
    {
     "name": "stdout",
     "output_type": "stream",
     "text": [
      "lats.txt   lons.txt   \u001b[34mprocessed\u001b[m\u001b[m/ \u001b[34mraw\u001b[m\u001b[m/\r\n"
     ]
    }
   ],
   "source": [
    "ls ../data"
   ]
  },
  {
   "cell_type": "code",
   "execution_count": 3,
   "id": "9766f22c",
   "metadata": {},
   "outputs": [],
   "source": [
    "ls ../data/processed"
   ]
  },
  {
   "cell_type": "code",
   "execution_count": 4,
   "id": "2d3252b0",
   "metadata": {},
   "outputs": [
    {
     "ename": "ValueError",
     "evalue": "different number of values and points",
     "output_type": "error",
     "traceback": [
      "\u001b[0;31m---------------------------------------------------------------------------\u001b[0m",
      "\u001b[0;31mValueError\u001b[0m                                Traceback (most recent call last)",
      "Input \u001b[0;32mIn [4]\u001b[0m, in \u001b[0;36m<cell line: 35>\u001b[0;34m()\u001b[0m\n\u001b[1;32m     32\u001b[0m         points_mercator\u001b[38;5;241m.\u001b[39mappend((j,i))\n\u001b[1;32m     34\u001b[0m padded\u001b[38;5;241m=\u001b[39mnp\u001b[38;5;241m.\u001b[39mcopy(X[\u001b[38;5;241m0\u001b[39m,\u001b[38;5;241m20\u001b[39m:\u001b[38;5;241m-\u001b[39m\u001b[38;5;241m20\u001b[39m,\u001b[38;5;241m10\u001b[39m:\u001b[38;5;241m-\u001b[39m\u001b[38;5;241m10\u001b[39m])\n\u001b[0;32m---> 35\u001b[0m interp1 \u001b[38;5;241m=\u001b[39m np\u001b[38;5;241m.\u001b[39mnan_to_num(\u001b[43minterpolate\u001b[49m\u001b[38;5;241;43m.\u001b[39;49m\u001b[43mgriddata\u001b[49m\u001b[43m(\u001b[49m\u001b[43mpoints_nemo\u001b[49m\u001b[43m,\u001b[49m\u001b[43mpadded\u001b[49m\u001b[38;5;241;43m.\u001b[39;49m\u001b[43mflatten\u001b[49m\u001b[43m(\u001b[49m\u001b[43m)\u001b[49m\u001b[43m,\u001b[49m\u001b[43m \u001b[49m\n\u001b[1;32m     36\u001b[0m \u001b[43m                                            \u001b[49m\u001b[43mpoints_mercator\u001b[49m\u001b[43m)\u001b[49m)\u001b[38;5;241m.\u001b[39mreshape((\u001b[38;5;241m180\u001b[39m,\u001b[38;5;241m380\u001b[39m))\n\u001b[1;32m     39\u001b[0m dsp\u001b[38;5;241m.\u001b[39mplot_error_globe(interp1[:,\u001b[38;5;241m10\u001b[39m:\u001b[38;5;241m-\u001b[39m\u001b[38;5;241m10\u001b[39m], lon2d, lat2d,vmin\u001b[38;5;241m=\u001b[39m\u001b[38;5;241m-\u001b[39m\u001b[38;5;241m4\u001b[39m,vmax\u001b[38;5;241m=\u001b[39m\u001b[38;5;241m4\u001b[39m,cmap\u001b[38;5;241m=\u001b[39m\u001b[38;5;124m\"\u001b[39m\u001b[38;5;124mReds\u001b[39m\u001b[38;5;124m\"\u001b[39m,\n\u001b[1;32m     40\u001b[0m                      cmap_title\u001b[38;5;241m=\u001b[39m\u001b[38;5;124m\"\u001b[39m\u001b[38;5;124m(pred - true)^2\u001b[39m\u001b[38;5;124m\"\u001b[39m,title\u001b[38;5;241m=\u001b[39m\u001b[38;5;124m\"\u001b[39m\u001b[38;5;124mvalidation mse (1 sample)\u001b[39m\u001b[38;5;124m\"\u001b[39m)\n",
      "File \u001b[0;32m~/opt/anaconda3/envs/DL-normalization/lib/python3.9/site-packages/scipy/interpolate/ndgriddata.py:260\u001b[0m, in \u001b[0;36mgriddata\u001b[0;34m(points, values, xi, method, fill_value, rescale)\u001b[0m\n\u001b[1;32m    258\u001b[0m     \u001b[38;5;28;01mreturn\u001b[39;00m ip(xi)\n\u001b[1;32m    259\u001b[0m \u001b[38;5;28;01melif\u001b[39;00m method \u001b[38;5;241m==\u001b[39m \u001b[38;5;124m'\u001b[39m\u001b[38;5;124mlinear\u001b[39m\u001b[38;5;124m'\u001b[39m:\n\u001b[0;32m--> 260\u001b[0m     ip \u001b[38;5;241m=\u001b[39m \u001b[43mLinearNDInterpolator\u001b[49m\u001b[43m(\u001b[49m\u001b[43mpoints\u001b[49m\u001b[43m,\u001b[49m\u001b[43m \u001b[49m\u001b[43mvalues\u001b[49m\u001b[43m,\u001b[49m\u001b[43m \u001b[49m\u001b[43mfill_value\u001b[49m\u001b[38;5;241;43m=\u001b[39;49m\u001b[43mfill_value\u001b[49m\u001b[43m,\u001b[49m\n\u001b[1;32m    261\u001b[0m \u001b[43m                              \u001b[49m\u001b[43mrescale\u001b[49m\u001b[38;5;241;43m=\u001b[39;49m\u001b[43mrescale\u001b[49m\u001b[43m)\u001b[49m\n\u001b[1;32m    262\u001b[0m     \u001b[38;5;28;01mreturn\u001b[39;00m ip(xi)\n\u001b[1;32m    263\u001b[0m \u001b[38;5;28;01melif\u001b[39;00m method \u001b[38;5;241m==\u001b[39m \u001b[38;5;124m'\u001b[39m\u001b[38;5;124mcubic\u001b[39m\u001b[38;5;124m'\u001b[39m \u001b[38;5;129;01mand\u001b[39;00m ndim \u001b[38;5;241m==\u001b[39m \u001b[38;5;241m2\u001b[39m:\n",
      "File \u001b[0;32minterpnd.pyx:277\u001b[0m, in \u001b[0;36mscipy.interpolate.interpnd.LinearNDInterpolator.__init__\u001b[0;34m()\u001b[0m\n",
      "File \u001b[0;32minterpnd.pyx:78\u001b[0m, in \u001b[0;36mscipy.interpolate.interpnd.NDInterpolatorBase.__init__\u001b[0;34m()\u001b[0m\n",
      "File \u001b[0;32minterpnd.pyx:192\u001b[0m, in \u001b[0;36mscipy.interpolate.interpnd._check_init_shape\u001b[0;34m()\u001b[0m\n",
      "\u001b[0;31mValueError\u001b[0m: different number of values and points"
     ]
    }
   ],
   "source": [
    "nemo_lats = np.loadtxt(\"data/lats.txt\")[1:-1,1:-1]\n",
    "nemo_lons = np.loadtxt(\"data/lons.txt\")[1:-1,1:-1]\n",
    "\n",
    "lon = np.arange(-180, 180)\n",
    "lat = np.arange(-90, 90)\n",
    "lon2d, lat2d = np.meshgrid(lon, lat)\n",
    "\n",
    "X = np.load(\"data/processed/nemo_perten90_samples_standardize copie//valid/X/NORSSH_PERTEN15.npz\")['arr_0']\n",
    "\n",
    "points_nemo = []\n",
    "points_mercator = []\n",
    "\n",
    "pad = 10\n",
    "\n",
    "pad_lons = np.empty((290,360 + 2 * pad))\n",
    "pad_lons[:,pad:-pad] = np.copy(nemo_lons)\n",
    "pad_lons[:,:pad] = np.copy(pad_lons[:,-2*pad:-pad])\n",
    "pad_lons[:,-pad:] = np.copy(pad_lons[:,pad:2*pad])\n",
    "\n",
    "pad_lats = np.empty((290,360 + 2 * pad))\n",
    "pad_lats[:,pad:-pad] = np.copy(nemo_lats)\n",
    "pad_lats[:,:pad] = np.copy(pad_lats[:,-2*pad:-pad])\n",
    "pad_lats[:,-pad:] = np.copy(pad_lats[:,pad:2*pad])\n",
    "\n",
    "for i in range(len(pad_lons)):\n",
    "    for j in range(len(pad_lons[0])):\n",
    "        points_nemo.append((pad_lons[i,j],pad_lats[i,j]))\n",
    "\n",
    "        \n",
    "for i in range(-90,90):\n",
    "    for j in np.concatenate((np.arange(-10,180),np.arange(-180,10))):\n",
    "        points_mercator.append((j,i))\n",
    "\n",
    "padded=np.copy(X[0,20:-20,10:-10])\n",
    "interp1 = np.nan_to_num(interpolate.griddata(points_nemo,padded.flatten(), \n",
    "                                            points_mercator)).reshape((180,380))\n",
    "\n",
    "\n",
    "dsp.plot_error_globe(interp1[:,10:-10], lon2d, lat2d,vmin=-4,vmax=4,cmap=\"Reds\",\n",
    "                     cmap_title=\"(pred - true)^2\",title=\"validation mse (1 sample)\")"
   ]
  },
  {
   "cell_type": "code",
   "execution_count": 9,
   "id": "fc0757e1",
   "metadata": {},
   "outputs": [
    {
     "data": {
      "text/plain": [
       "(3, 330, 400)"
      ]
     },
     "execution_count": 9,
     "metadata": {},
     "output_type": "execute_result"
    }
   ],
   "source": [
    "X.shape"
   ]
  },
  {
   "cell_type": "code",
   "execution_count": null,
   "id": "0ab49d1d",
   "metadata": {},
   "outputs": [],
   "source": [
    "\n"
   ]
  }
 ],
 "metadata": {
  "kernelspec": {
   "display_name": "Python 3 (ipykernel)",
   "language": "python",
   "name": "python3"
  },
  "language_info": {
   "codemirror_mode": {
    "name": "ipython",
    "version": 3
   },
   "file_extension": ".py",
   "mimetype": "text/x-python",
   "name": "python",
   "nbconvert_exporter": "python",
   "pygments_lexer": "ipython3",
   "version": "3.9.12"
  }
 },
 "nbformat": 4,
 "nbformat_minor": 5
}
