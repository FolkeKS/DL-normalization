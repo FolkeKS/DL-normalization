{
 "cells": [
  {
   "cell_type": "code",
   "execution_count": 4,
   "id": "5088f3ff",
   "metadata": {},
   "outputs": [],
   "source": [
    "import os\n",
    "import numpy as np\n",
    "os.chdir(\"/Users/coulaud/Documents/DL-normalization\")\n",
    "os.getcwd()\n",
    "data_dir = \"data/processed/newdata/\"\n"
   ]
  },
  {
   "cell_type": "code",
   "execution_count": 2,
   "id": "16cc6537",
   "metadata": {},
   "outputs": [],
   "source": [
    "def addMap(X, dist_map):\n",
    "    _,H,W  = X.shape\n",
    "\n",
    "    Y    = np.empty((4,H,W))\n",
    "    Y[0] = X[0,:,:]\n",
    "    Y[1] = X[1,:,:]\n",
    "    Y[2] = X[2,:,:]\n",
    "    Y[3] = dist_map\n",
    "    return Y    \n",
    "\n",
    "def rota_90(X):\n",
    "    _,H,W  = X.shape\n",
    "      \n",
    "    alphas_i = np.rot90(X[0,:,:], k=1, axes=(0,1))\n",
    "    alphas_j = np.rot90(X[1,:,:], k=1, axes=(0,1))\n",
    "    w        = np.rot90(X[2,:,:], k=1, axes=(0,1))\n",
    "    dist_map = np.rot90(X[3,:,:], k=1, axes=(0,1))\n",
    "    alphas_i = np.roll(alphas_i, -1, axis = 1)\n",
    "    \n",
    "    X    = np.empty((4,W,H))\n",
    "    X[0] = alphas_j\n",
    "    X[1] = alphas_i\n",
    "    X[2] = w\n",
    "    X[3] = dist_map\n",
    "    return X\n",
    "\n",
    "def rota_180(X):\n",
    "    _,H,W  = X.shape\n",
    "    \n",
    "    alphas_i = np.rot90(X[0,:,:], k=2, axes=(0,1))\n",
    "    alphas_j = np.rot90(X[1,:,:], k=2, axes=(0,1))\n",
    "    w        = np.rot90(X[2,:,:], k=2, axes=(0,1))\n",
    "    dist_map = np.rot90(X[3,:,:], k=2, axes=(0,1))\n",
    "    alphas_j = np.roll(alphas_j, -1, axis = 1)\n",
    "    alphas_i = np.roll(alphas_i, 1, axis = 0)\n",
    "    \n",
    "    X    = np.empty((4,H,W))\n",
    "    X[0] = alphas_i\n",
    "    X[1] = alphas_j\n",
    "    X[2] = w\n",
    "    X[3] = dist_map\n",
    "    return X\n",
    "\n",
    "def rota_270(X):\n",
    "    _,H,W  = X.shape\n",
    "        \n",
    "    alphas_i = np.rot90(X[0,:,:], k=1, axes=(1,0))\n",
    "    alphas_j = np.rot90(X[1,:,:], k=1, axes=(1,0))\n",
    "    w        = np.rot90(X[2,:,:], k=1, axes=(1,0))\n",
    "    dist_map = np.rot90(X[3,:,:], k=1, axes=(1,0))\n",
    "    alphas_j = np.roll(alphas_j, 1, axis = 0)\n",
    "    \n",
    "    X    = np.empty((4,W,H))\n",
    "    X[0] = alphas_j\n",
    "    X[1] = alphas_i\n",
    "    X[2] = w\n",
    "    X[3] = dist_map\n",
    "    return X\n",
    "\n",
    "def flip_vert(X):\n",
    "    _,H,W  = X.shape\n",
    "\n",
    "    alphas_i = np.flipud(X[0,:,:])\n",
    "    alphas_j = np.flipud(X[1,:,:])\n",
    "    w        = np.flipud(X[2,:,:])\n",
    "    dist_map = np.flipud(X[3,:,:])\n",
    "    alphas_i = np.roll(alphas_i, 1, axis = 0)\n",
    "    X    = np.empty((4,H,W))\n",
    "    X[0] = alphas_i\n",
    "    X[1] = alphas_j\n",
    "    X[2] = w\n",
    "    X[3] = dist_map\n",
    "    return X\n",
    "\n",
    "def flip_hor(X):\n",
    "    _,H,W  = X.shape\n",
    "\n",
    "    alphas_i = np.fliplr(X[0,:,:])\n",
    "    alphas_j = np.fliplr(X[1,:,:])\n",
    "    w        = np.fliplr(X[2,:,:])\n",
    "    dist_map = np.fliplr(X[3,:,:])\n",
    "    alphas_j = np.roll(alphas_j, -1, axis = 1)\n",
    "    X    = np.empty((4,H,W))\n",
    "    X[0] = alphas_i\n",
    "    X[1] = alphas_j\n",
    "    X[2] = w\n",
    "    X[3] = dist_map\n",
    "    return X"
   ]
  },
  {
   "cell_type": "code",
   "execution_count": 5,
   "id": "a62f208b",
   "metadata": {},
   "outputs": [],
   "source": [
    "X = addMap(np.load(data_dir+\"valid/X/NORSSH_BND_PERTEN13.npz\")['arr_0'], np.load(\"data/sign_dist_map_std.npz\")['arr_0'])"
   ]
  },
  {
   "cell_type": "code",
   "execution_count": 6,
   "id": "9b4c3b3b",
   "metadata": {},
   "outputs": [
    {
     "data": {
      "text/plain": [
       "True"
      ]
     },
     "execution_count": 6,
     "metadata": {},
     "output_type": "execute_result"
    }
   ],
   "source": [
    "np.array_equal(flip_hor(flip_vert(X)),flip_vert(flip_hor(X)))"
   ]
  },
  {
   "cell_type": "code",
   "execution_count": 7,
   "id": "ba7cc478",
   "metadata": {},
   "outputs": [
    {
     "data": {
      "text/plain": [
       "True"
      ]
     },
     "execution_count": 7,
     "metadata": {},
     "output_type": "execute_result"
    }
   ],
   "source": [
    "np.array_equal(flip_vert(flip_hor(X)),rota_180(X))"
   ]
  },
  {
   "cell_type": "code",
   "execution_count": 8,
   "id": "0d97a465",
   "metadata": {},
   "outputs": [
    {
     "data": {
      "text/plain": [
       "True"
      ]
     },
     "execution_count": 8,
     "metadata": {},
     "output_type": "execute_result"
    }
   ],
   "source": [
    "np.array_equal(rota_180(rota_180(X)),X)"
   ]
  },
  {
   "cell_type": "code",
   "execution_count": 9,
   "id": "84053407",
   "metadata": {},
   "outputs": [
    {
     "data": {
      "text/plain": [
       "True"
      ]
     },
     "execution_count": 9,
     "metadata": {},
     "output_type": "execute_result"
    }
   ],
   "source": [
    "np.array_equal(rota_90(rota_90(X)),rota_180(X))"
   ]
  },
  {
   "cell_type": "code",
   "execution_count": 10,
   "id": "d4a11553",
   "metadata": {},
   "outputs": [
    {
     "data": {
      "text/plain": [
       "True"
      ]
     },
     "execution_count": 10,
     "metadata": {},
     "output_type": "execute_result"
    }
   ],
   "source": [
    "np.array_equal(rota_270(rota_270(X)),rota_180(X))"
   ]
  },
  {
   "cell_type": "code",
   "execution_count": 11,
   "id": "0c534408",
   "metadata": {},
   "outputs": [
    {
     "data": {
      "text/plain": [
       "(True, True)"
      ]
     },
     "execution_count": 11,
     "metadata": {},
     "output_type": "execute_result"
    }
   ],
   "source": [
    "np.array_equal(rota_90(rota_180(X)),rota_270(X)), np.array_equal(rota_180(rota_90(X)),rota_270(X))"
   ]
  },
  {
   "cell_type": "code",
   "execution_count": 12,
   "id": "09f28ead",
   "metadata": {},
   "outputs": [
    {
     "data": {
      "text/plain": [
       "True"
      ]
     },
     "execution_count": 12,
     "metadata": {},
     "output_type": "execute_result"
    }
   ],
   "source": [
    "np.array_equal(rota_90(rota_90(rota_90(X))),rota_270(X))"
   ]
  },
  {
   "cell_type": "code",
   "execution_count": 13,
   "id": "d4c34cd1",
   "metadata": {},
   "outputs": [
    {
     "data": {
      "text/plain": [
       "True"
      ]
     },
     "execution_count": 13,
     "metadata": {},
     "output_type": "execute_result"
    }
   ],
   "source": [
    "np.array_equal(rota_90(rota_90(rota_90(rota_90(X)))),X)"
   ]
  },
  {
   "cell_type": "code",
   "execution_count": 14,
   "id": "24062052",
   "metadata": {},
   "outputs": [
    {
     "data": {
      "text/plain": [
       "True"
      ]
     },
     "execution_count": 14,
     "metadata": {},
     "output_type": "execute_result"
    }
   ],
   "source": [
    "np.array_equal(rota_270(rota_270(rota_270(rota_270(X)))),X)"
   ]
  },
  {
   "cell_type": "code",
   "execution_count": 15,
   "id": "4a0bd10e",
   "metadata": {},
   "outputs": [
    {
     "data": {
      "text/plain": [
       "True"
      ]
     },
     "execution_count": 15,
     "metadata": {},
     "output_type": "execute_result"
    }
   ],
   "source": [
    "np.array_equal(flip_vert(flip_hor(flip_vert(flip_hor(X)))),X)"
   ]
  },
  {
   "cell_type": "code",
   "execution_count": 29,
   "id": "abe2243a",
   "metadata": {},
   "outputs": [
    {
     "data": {
      "text/plain": [
       "(True, True, True)"
      ]
     },
     "execution_count": 29,
     "metadata": {},
     "output_type": "execute_result"
    }
   ],
   "source": [
    "np.array_equal(rota_90(rota_270(X)),rota_270(rota_90(X))), np.array_equal(rota_90(rota_270(X)),X), np.array_equal(X,rota_90(rota_270(X)))"
   ]
  },
  {
   "cell_type": "code",
   "execution_count": 81,
   "id": "ce87eee1",
   "metadata": {},
   "outputs": [],
   "source": []
  },
  {
   "cell_type": "code",
   "execution_count": 27,
   "id": "c465ca08",
   "metadata": {},
   "outputs": [
    {
     "name": "stdout",
     "output_type": "stream",
     "text": [
      "[[ 1  2  3  4  5  6]\n",
      " [ 7  8  9 10 11 12]\n",
      " [13 14 15 16 17 18]\n",
      " [19 20 21 22 23 24]\n",
      " [25 26 27 28 29 30]\n",
      " [31 32 33 34 35 36]]\n"
     ]
    }
   ],
   "source": [
    "t = np.array([[j+i for i in range(6)] for j in range(1,36,6)])\n",
    "print(t)"
   ]
  },
  {
   "cell_type": "code",
   "execution_count": 36,
   "id": "f9924a90",
   "metadata": {},
   "outputs": [],
   "source": [
    "Xt = np.empty((4,6,6),int)\n",
    "\n",
    "for i in range(4) : Xt[i] = t"
   ]
  },
  {
   "cell_type": "code",
   "execution_count": 46,
   "id": "afbae2b6",
   "metadata": {},
   "outputs": [
    {
     "data": {
      "text/plain": [
       "array([[[ 6.,  5.,  4.,  3.,  2.,  1.],\n",
       "        [36., 35., 34., 33., 32., 31.],\n",
       "        [30., 29., 28., 27., 26., 25.],\n",
       "        [24., 23., 22., 21., 20., 19.],\n",
       "        [18., 17., 16., 15., 14., 13.],\n",
       "        [12., 11., 10.,  9.,  8.,  7.]],\n",
       "\n",
       "       [[35., 34., 33., 32., 31., 36.],\n",
       "        [29., 28., 27., 26., 25., 30.],\n",
       "        [23., 22., 21., 20., 19., 24.],\n",
       "        [17., 16., 15., 14., 13., 18.],\n",
       "        [11., 10.,  9.,  8.,  7., 12.],\n",
       "        [ 5.,  4.,  3.,  2.,  1.,  6.]],\n",
       "\n",
       "       [[36., 35., 34., 33., 32., 31.],\n",
       "        [30., 29., 28., 27., 26., 25.],\n",
       "        [24., 23., 22., 21., 20., 19.],\n",
       "        [18., 17., 16., 15., 14., 13.],\n",
       "        [12., 11., 10.,  9.,  8.,  7.],\n",
       "        [ 6.,  5.,  4.,  3.,  2.,  1.]],\n",
       "\n",
       "       [[36., 35., 34., 33., 32., 31.],\n",
       "        [30., 29., 28., 27., 26., 25.],\n",
       "        [24., 23., 22., 21., 20., 19.],\n",
       "        [18., 17., 16., 15., 14., 13.],\n",
       "        [12., 11., 10.,  9.,  8.,  7.],\n",
       "        [ 6.,  5.,  4.,  3.,  2.,  1.]]])"
      ]
     },
     "execution_count": 46,
     "metadata": {},
     "output_type": "execute_result"
    }
   ],
   "source": [
    "rota_180(Xt)"
   ]
  }
 ],
 "metadata": {
  "kernelspec": {
   "display_name": "Python 3 (ipykernel)",
   "language": "python",
   "name": "python3"
  },
  "language_info": {
   "codemirror_mode": {
    "name": "ipython",
    "version": 3
   },
   "file_extension": ".py",
   "mimetype": "text/x-python",
   "name": "python",
   "nbconvert_exporter": "python",
   "pygments_lexer": "ipython3",
   "version": "3.9.12"
  }
 },
 "nbformat": 4,
 "nbformat_minor": 5
}
